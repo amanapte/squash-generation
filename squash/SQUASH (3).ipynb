{
  "nbformat": 4,
  "nbformat_minor": 0,
  "metadata": {
    "colab": {
      "name": "SQUASH.ipynb",
      "provenance": [],
      "collapsed_sections": []
    },
    "kernelspec": {
      "name": "python3",
      "display_name": "Python 3"
    },
    "accelerator": "GPU"
  },
  "cells": [
    {
      "cell_type": "markdown",
      "metadata": {
        "id": "GszaqZ05eS-8",
        "colab_type": "text"
      },
      "source": [
        "# Prepare pre-trained models via Google Drive\n",
        "## In your 'My Drive': \n",
        "### 1. Create a directory named 'SQUASH'.\n",
        "### 2. In 'SQUASH', download and store directories mentioned along with its content:\n",
        "\n",
        "#### [gpt2_corefs_question_generation](https://drive.google.com/drive/folders/1HEbm_sHDAAcylKIF4vIvZ9N2jEA7I5Em)\n",
        "\n",
        "#### [bert_large_qa_model](https://drive.google.com/drive/folders/1D3fIPuwn0C0zIMg29QSKcnSAc8HfNemd)\n",
        "\n",
        "### 3.(Optional) Save the input Pickle file into the 'SQUASH' directory\n",
        "\n",
        " "
      ]
    },
    {
      "cell_type": "code",
      "metadata": {
        "id": "I3CHL-46fELM",
        "colab_type": "code",
        "colab": {}
      },
      "source": [
        "from google.colab import drive\n",
        "drive.mount('/content/drive')"
      ],
      "execution_count": null,
      "outputs": []
    },
    {
      "cell_type": "markdown",
      "metadata": {
        "id": "Et0ux9AufDdU",
        "colab_type": "text"
      },
      "source": [
        "# Setup"
      ]
    },
    {
      "cell_type": "code",
      "metadata": {
        "id": "YRRB_2mvSl1m",
        "colab_type": "code",
        "colab": {}
      },
      "source": [
        "import json, pickle, os\n",
        "import pandas as pd\n",
        "from google.colab import files\n",
        "\n",
        "\n",
        "! git clone https://github.com/amanapte/squash-generation\n",
        "! pip install pytorch-pretrained-bert pytorch-ignite simplejson\n",
        "! cd /content/squash-generation/pytorch-pretrained-BERT/ && pip install --editable .\n",
        "#! cd /content/squash-generation/ && pip install -r requirements.txt\n",
        "\n",
        "! cp -r /content/drive/'My Drive'/SQUASH/gpt2_corefs_question_generation /content/squash-generation/question-generation/\n",
        "! cp -r /content/drive/'My Drive'/SQUASH/bert_large_qa_model /content/squash-generation/question-answering/\n",
        "\n",
        "# Path to temp directory\n",
        "temp_path = \"/content/squash-generation/squash/temp/\"\n",
        "\n",
        "# Path to queue file\n",
        "queue_path = temp_path + \"queue.txt\"\n",
        "\n",
        "# Remove existing files in above mentioned directories\n",
        "! rm -rf /content/squash-generation/squash/temp/quac_869/\n",
        "! rm /content/squash-generation/squash/temp/README.md\n",
        "! rm /content/squash-generation/squash/final/README.md\n",
        "\n",
        "sep = \"------------------------------------------------------\"\n"
      ],
      "execution_count": null,
      "outputs": []
    },
    {
      "cell_type": "markdown",
      "metadata": {
        "id": "IVOqypR0a2Ff",
        "colab_type": "text"
      },
      "source": [
        "# Run custom paragraph through SQUASH"
      ]
    },
    {
      "cell_type": "code",
      "metadata": {
        "id": "Z6w8JiWkazT4",
        "colab_type": "code",
        "colab": {}
      },
      "source": [
        "# Paragraph to run\n",
        "chunk_para = \"\"\"Coffee is a brewed drink prepared from roasted coffee beans, the seeds of berries from certain Coffea species. Once ripe, coffee berries are picked while green and unripe, processed, and dried. Dried coffee seeds (referred to as beans\") are roasted to varying degrees, depending on the desired flavor. Roasted beans are ground and then brewed with near-boiling water to produce the beverage known as coffee. Coffee is darkly colored, bitter, slightly acidic and has a stimulating effect in humans, primarily due to its caffeine content. It is one of the most popular drinks in the world, and can be prepared and presented in a variety of ways (e.g., espresso, French press, caffè latte). It is usually served hot, although iced coffee is common. Clinical research indicates that moderate coffee consumption is benign or mildly beneficial as a stimulant in healthy adults, with continuing research on whether long-term consumption reduces the risk of some diseases, although those long-term studies are generally of poor quality. The earliest credible evidence of coffee-drinking as the modern beverage appears in modern-day Yemen in southern Arabia in the middle of the 15th century in Sufi shrines where coffee seeds were first roasted and brewed in a manner similar to how it is now prepared for drinking. The Yemenis procured the coffee beans from the Ethiopian Highlands and began cultivation. By the 16th century, the drink had reached the rest of the Middle East and North Africa, later spreading to Europe. The two most commonly grown are C. arabica and C. robusta. Coffee plants are now cultivated in over 70 countries, primarily in the equatorial regions of the Americas, Southeast Asia, the Indian subcontinent, and Africa. As of 2018, Brazil was the leading grower of coffee beans, producing 35% of the world total. Coffee is a major export commodity as the leading legal agricultural export for numerous countries. It is one of the most valuable commodities exported by developing countries. Green, unroasted coffee is one of the most traded agricultural commodities in the world. The way developed countries trade coffee with developing nations has been criticised, as well as the impact on the environment with regards to the clearing of land for coffee-growing and water use. Consequently, the markets for fair trade and organic coffee are expanding.\"\"\"\n",
        "# chunk_para = \"\"\n",
        "\n",
        "para_list = chunk_para.split()\n",
        "clean_chunk_para = \" \".join(para_list)\n",
        "dump_para = json.dumps(clean_chunk_para)\n",
        "dump_key = json.dumps(\"Custom\")\n",
        "\n",
        "# SQUASH settings\n",
        "top_p = 0.9\n",
        "gen_frac = 0.5\n",
        "spec_frac = 0.8\n",
        "\n",
        "json_dict = json.loads(\"\"\"{\"input_text\": \"\"\" + dump_para + \"\"\", \"key\": \"\"\" + dump_key + \"\"\", \"timestamp\": \"2020-06-17 10:55:12.201741\", \"settings\": {\"top_p\": \"\"\" + str(top_p) + \"\"\",  \"gen_frac\": \"\"\" + str(gen_frac) + \"\"\", \"spec_frac\": \"\"\" + str(spec_frac) + \"\"\"}}\"\"\")\n",
        "json_cont = json.dumps(json_dict, indent = 4, sort_keys=True)\n",
        "\n",
        "chunk_int_path = temp_path + \"Custom/\"\n",
        "os.makedirs(chunk_int_path)\n",
        "json_file_path = chunk_int_path + \"metadata.json\"\n",
        "output_file = open(json_file_path, \"w\")\n",
        "output_file.write(json_cont)\n",
        "output_file.close()\n",
        "    \n",
        "queue_file = open(queue_path, \"w\")\n",
        "queue_file.write(dump_key)\n",
        "queue_file.close()\n",
        "\n",
        "# Run Squash pipeline\n",
        "! cd /content/squash-generation/ && bash squash/pipeline_QA.sh\n",
        "\n",
        "# Print output JSON\n",
        "! cat /content/squash-generation/squash/final/Custom.json\n",
        "\n",
        "# # Download all output JSONs in a zip\n",
        "# ! cd /content/squash-generation/squash && zip -r ./Custom.zip ./final/ ./temp/Custom/\n",
        "# files.download('/content/squash-generation/squash/Custom.zip')"
      ],
      "execution_count": null,
      "outputs": []
    },
    {
      "cell_type": "markdown",
      "metadata": {
        "id": "d-w2ZYuEBhmW",
        "colab_type": "text"
      },
      "source": [
        "### Run this cell before re-running the custom paragraph cell above."
      ]
    },
    {
      "cell_type": "code",
      "metadata": {
        "id": "ZNMcN1kTr8Xg",
        "colab_type": "code",
        "colab": {}
      },
      "source": [
        "! rm -rf /content/squash-generation/squash/temp/Custom\n",
        "! rm /content/squash-generation/squash/final/Custom.json"
      ],
      "execution_count": 6,
      "outputs": []
    },
    {
      "cell_type": "markdown",
      "metadata": {
        "id": "GIAsneZ1cwvB",
        "colab_type": "text"
      },
      "source": [
        "# Run thorugh KB database and generate input JSONs "
      ]
    },
    {
      "cell_type": "code",
      "metadata": {
        "id": "no2jtIcQl7hz",
        "colab_type": "code",
        "colab": {}
      },
      "source": [
        "! cp /content/drive/'My Drive'/SQUASH/Chunks.pkl /content/\n",
        "\n",
        "# Path to Pickle chunk file\n",
        "chunk_path = \"/content/Chunks.pkl\"\n",
        "\n",
        "# Read Pickle chunk file into Pandas\n",
        "chunk_file = pd.read_pickle(chunk_path)\n",
        "\n",
        "article_count = len(chunk_file)\n",
        "\n",
        "for i in range(0, article_count - 1):\n",
        "    # Kb_article = ((chunk_file['KB Article'][i:i+1].values))[0]\n",
        "    chunk = ((chunk_file['Chunks'][i:i+1].values))[0]\n",
        "    chunk_para = \"\"\n",
        "\n",
        "    for j in range(0, len(chunk)):\n",
        "        chunk_para += str(chunk[j])\n",
        "    para_list = chunk_para.split()\n",
        "    clean_chunk_para = \" \".join(para_list)\n",
        "    dump_para = json.dumps(chunk_para)\n",
        "    dump_key = json.dumps(str(i+1))\n",
        "    json_dict = json.loads(r\"\"\"{\"input_text\": \"\"\" + dump_para + \"\"\", \"key\": \"\"\" + dump_key + \"\"\", \"timestamp\": \"2020-06-17 10:55:12.201741\", \"settings\": {\"top_p\": 0.9,  \"gen_frac\": 0.5, \"spec_frac\": 0.8}}\"\"\")\n",
        "    json_cont = json.dumps(json_dict, indent = 4, sort_keys=True)\n",
        "    chunk_int_path = temp_path + str(int(i + 1)) + \"/\"\n",
        "    os.makedirs(chunk_int_path)\n",
        "    json_file_path = chunk_int_path + \"metadata.json\"\n",
        "    output_file = open(json_file_path, \"a\")\n",
        "    output_file.write(json_cont)\n",
        "    output_file.close()\n",
        "    \n",
        "queue_file = open(queue_path, \"a\")\n",
        "for i in range(1, article_count):\n",
        "    queue_file.write(str(i))\n",
        "    queue_file.write(\"\\n\")\n",
        "queue_file.close()\n",
        "\n",
        "! cd /content/squash-generation/ && bash squash/pipeline_demo.sh"
      ],
      "execution_count": null,
      "outputs": []
    },
    {
      "cell_type": "markdown",
      "metadata": {
        "id": "ev-UYv_reCcH",
        "colab_type": "text"
      },
      "source": [
        "# Create input JSONs with different settings for a single article "
      ]
    },
    {
      "cell_type": "code",
      "metadata": {
        "id": "sCbf4Jmx_v0O",
        "colab_type": "code",
        "colab": {}
      },
      "source": [
        "! cp /content/drive/'My Drive'/SQUASH/Chunks.pkl /content/\n",
        "\n",
        "# Path to Pickle chunk file\n",
        "chunk_path = \"/content/Chunks.pkl\"\n",
        "\n",
        "# Read Pickle chunk file into Pandas\n",
        "chunk_file = pd.read_pickle(chunk_path)\n",
        "\n",
        "i = 0\n",
        "\n",
        "para_list = []\n",
        "\n",
        "Kb_article = ((chunk_file['KB Article'][i:i+1].values))[0]\n",
        "chunk = ((chunk_file['Chunks'][i:i+1].values))[0]\n",
        "chunk_para = \"\"\n",
        "\n",
        "for j in range(0, len(chunk)):\n",
        "    chunk_para += str(chunk[j])\n",
        "    para_list = chunk_para.split()\n",
        "    clean_chunk_para = \" \".join(para_list)\n",
        "    dump_para = json.dumps(chunk_para)\n",
        "    dump_key = json.dumps(str(i+1))\n",
        "\n",
        "# top_p = 0.99\n",
        "# gen_frac = 0.6\n",
        "# spec_frac = 0.8\n",
        "\n",
        "# subtr = 0.01\n",
        "# k = 1\n",
        "\n",
        "for top_p in range(75, 100, 5):\n",
        "    for gen_frac in range(30, 60, 5):\n",
        "        for spec_frac in range(50, 90, 5):\n",
        "            json_dict = json.loads(r\"\"\"{\"input_text\": \"\"\" + dump_para + \"\"\", \"key\": \"\"\" + dump_key + \"\"\", \"timestamp\": \"2020-06-17 10:55:12.201741\", \"settings\": {\"top_p\": \"\"\" + str(float(top_p/100)) + \"\"\",  \"gen_frac\": \"\"\" + str(float(gen_frac/100)) + \"\"\", \"spec_frac\": \"\"\" + str(float(spec_frac/100)) + \"\"\"}}\"\"\")\n",
        "            json_cont = json.dumps(json_dict, indent = 4, sort_keys=True)\n",
        "            chunk_int_path = temp_path + str(int(i + 1)) + \"/\"\n",
        "            os.makedirs(chunk_int_path)\n",
        "            json_file_path = chunk_int_path + \"metadata.json\"\n",
        "            output_file = open(json_file_path, \"a\")\n",
        "            output_file.write(json_cont)\n",
        "            output_file.close()\n",
        "            i += 1\n",
        "    \n",
        "queue_file = open(queue_path, \"a\")\n",
        "for q in range(1, i + 1):\n",
        "    queue_file.write(str(q))\n",
        "    queue_file.write(\"\\n\")\n",
        "queue_file.close()\n",
        "\n",
        "! cd /content/squash-generation/ && bash squash/pipeline_demo.sh"
      ],
      "execution_count": null,
      "outputs": []
    },
    {
      "cell_type": "markdown",
      "metadata": {
        "id": "NC1jbm14ltoF",
        "colab_type": "text"
      },
      "source": [
        "# Delete and remake the temp and final directories\n",
        "## Run this cell if you want to run SQUASH pipeline after it has been executed once."
      ]
    },
    {
      "cell_type": "code",
      "metadata": {
        "id": "BzXIYrsXFzGv",
        "colab_type": "code",
        "colab": {}
      },
      "source": [
        "# ! rm -rf /content/squash-generation/squash/temp/\n",
        "# ! rm -rf /content/squash-generation/squash/final/\n",
        "# ! mkdir /content/squash-generation/squash/temp/\n",
        "# ! mkdir /content/squash-generation/squash/final/"
      ],
      "execution_count": null,
      "outputs": []
    },
    {
      "cell_type": "markdown",
      "metadata": {
        "id": "ml3h4aNwl-hc",
        "colab_type": "text"
      },
      "source": [
        "# Format of input json file"
      ]
    },
    {
      "cell_type": "code",
      "metadata": {
        "id": "P_75n5rUUr6K",
        "colab_type": "code",
        "colab": {}
      },
      "source": [
        "# {\n",
        "#     \"input_text\": \"Place your text here.\",\n",
        "#     \"key\": \"Key\",\n",
        "#     \"timestamp\": \"2020-06-17 10:55:12.201741\",\n",
        "#     \"settings\": {\n",
        "#         \"top_p\": 0.9,\n",
        "#         \"gen_frac\": 0.5,\n",
        "#         \"spec_frac\": 0.8\n",
        "#     }\n",
        "# }"
      ],
      "execution_count": null,
      "outputs": []
    }
  ]
}